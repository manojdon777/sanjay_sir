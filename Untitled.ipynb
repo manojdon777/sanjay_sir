{
 "cells": [
  {
   "cell_type": "raw",
   "id": "8d3320e4",
   "metadata": {},
   "source": [
    "1. interpreter based\n",
    "\tline by line instruction is getting executed.\n",
    "Variable\n",
    "\t- a name given to memory to store values\n",
    "\t- e.g. marks = 78\n",
    "\t       percentage = 89\n",
    "\t       salary = 78000\n",
    "\t       name = 'Sanjay Sir'\n",
    "\t       discount = 0.25\n",
    "\trules to define variables\n",
    "\t\t1. Letter (a to z, A-Z) eg. marks, comp_name, first_name, f_name\n",
    "\t\t2. can not use special character except (_)\n",
    "\t\t3. case sensitive\n",
    "\t\t4. do not use reserved word(class, next, print, def, list, if, except, import)\n",
    "\t\t5. should not start with number\n",
    "\t\t6. space should not be used\n",
    "\n",
    "literal: variable, keyword, inbuilt function, user defined function\n",
    "\n",
    "\n"
   ]
  },
  {
   "cell_type": "code",
   "execution_count": 2,
   "id": "1f3d5e31",
   "metadata": {},
   "outputs": [],
   "source": [
    "import keyword"
   ]
  },
  {
   "cell_type": "code",
   "execution_count": 9,
   "id": "05137323",
   "metadata": {},
   "outputs": [
    {
     "data": {
      "text/plain": [
       "['False',\n",
       " 'None',\n",
       " 'True',\n",
       " 'and',\n",
       " 'as',\n",
       " 'assert',\n",
       " 'async',\n",
       " 'await',\n",
       " 'break',\n",
       " 'class',\n",
       " 'continue',\n",
       " 'def',\n",
       " 'del',\n",
       " 'elif',\n",
       " 'else',\n",
       " 'except',\n",
       " 'finally',\n",
       " 'for',\n",
       " 'from',\n",
       " 'global',\n",
       " 'if',\n",
       " 'import',\n",
       " 'in',\n",
       " 'is',\n",
       " 'lambda',\n",
       " 'nonlocal',\n",
       " 'not',\n",
       " 'or',\n",
       " 'pass',\n",
       " 'raise',\n",
       " 'return',\n",
       " 'try',\n",
       " 'while',\n",
       " 'with',\n",
       " 'yield']"
      ]
     },
     "execution_count": 9,
     "metadata": {},
     "output_type": "execute_result"
    }
   ],
   "source": [
    "keyword.kwlist"
   ]
  },
  {
   "cell_type": "code",
   "execution_count": 7,
   "id": "0e2e156a",
   "metadata": {},
   "outputs": [
    {
     "name": "stdout",
     "output_type": "stream",
     "text": [
      "abc\n",
      "abc\n",
      "abc\n",
      "abc\n",
      "abc\n"
     ]
    }
   ],
   "source": [
    "for i in (range(5)):\n",
    "    print('abc')"
   ]
  },
  {
   "cell_type": "code",
   "execution_count": 11,
   "id": "9c5e4ed0",
   "metadata": {},
   "outputs": [
    {
     "name": "stdout",
     "output_type": "stream",
     "text": [
      "(Num1 = 66 ), (Num2 = 33 )\n",
      "Addition = 99\n",
      "Substraction = 33\n",
      "Multiplication = 2178\n",
      "Division = 2\n"
     ]
    }
   ],
   "source": [
    "num1 = 66\n",
    "num2 = 33\n",
    "add = num1 + num2\n",
    "sub = num1 - num2\n",
    "mult = num1 * num2\n",
    "div = num1 // num2\n",
    "#print('*******This is my first program*******')\n",
    "print('(Num1 =', num1, '),','(Num2 =', num2, ')')\n",
    "print('Addition =',add)\n",
    "print('Substraction =',sub)\n",
    "print('Multiplication =',mult)\n",
    "print('Division =',div)"
   ]
  },
  {
   "cell_type": "code",
   "execution_count": 13,
   "id": "8b5a10e2",
   "metadata": {},
   "outputs": [
    {
     "name": "stdout",
     "output_type": "stream",
     "text": [
      "(Num1 = 345 ), (Num2 = 745 )\n",
      "Addition = 1090\n"
     ]
    }
   ],
   "source": [
    "num1 = 345\n",
    "num2 = 745\n",
    "add = num1 + num2\n",
    "print('(Num1 =', num1, '),','(Num2 =', num2, ')')\n",
    "print('Addition =',add)\n"
   ]
  },
  {
   "cell_type": "markdown",
   "id": "faaf25c0",
   "metadata": {},
   "source": [
    "input() function takes input from keyboard\n",
    "anything taken from keyboard is always string in python"
   ]
  },
  {
   "cell_type": "code",
   "execution_count": 14,
   "id": "5991e46c",
   "metadata": {},
   "outputs": [
    {
     "name": "stdout",
     "output_type": "stream",
     "text": [
      "222\n",
      "333\n",
      "(Number 1 = 222 ), (Number 2 = 333 )\n",
      "Addition = 222333\n"
     ]
    }
   ],
   "source": [
    "num1 = input()\n",
    "num2 = input()\n",
    "add = num1 + num2\n",
    "print('(Number 1 =', num1, '),','(Number 2 =', num2, ')')\n",
    "print('Addition =',add"
   ]
  },
  {
   "cell_type": "code",
   "execution_count": 15,
   "id": "bbd1310d",
   "metadata": {},
   "outputs": [
    {
     "name": "stdout",
     "output_type": "stream",
     "text": [
      "222\n",
      "333\n",
      "(Number 1 = 222 ), (Number 2 = 333 )\n",
      "Addition = 555\n"
     ]
    }
   ],
   "source": [
    "num1 = int(input())\n",
    "num2 = int(input())\n",
    "add = num1 + num2\n",
    "print('(Number 1 =', num1, '),','(Number 2 =', num2, ')')\n",
    "print('Addition =',add)"
   ]
  },
  {
   "cell_type": "markdown",
   "id": "e0185134",
   "metadata": {},
   "source": [
    "## Command line argument"
   ]
  },
  {
   "cell_type": "code",
   "execution_count": null,
   "id": "9900014c",
   "metadata": {},
   "outputs": [],
   "source": [
    "$ python first.py 200 500\n",
    "In the above \n",
    "python is command\n",
    "first.py is 0th argument\n",
    "200 is 1st argument\n",
    "500 is 2nd argument"
   ]
  },
  {
   "cell_type": "code",
   "execution_count": null,
   "id": "32afbc70",
   "metadata": {},
   "outputs": [],
   "source": [
    "# to be executed on linux terminal\n",
    "import sys\n",
    "\n",
    "num1 = sys.argv[1]\n",
    "num2 = sys.argv[2]\n",
    "add = num1 + num2\n",
    "print('(Number 1 =', num1, '),','(Number 2 =', num2, ')')\n",
    "print('Addition =',add)"
   ]
  },
  {
   "cell_type": "code",
   "execution_count": null,
   "id": "352f0ab6",
   "metadata": {},
   "outputs": [],
   "source": [
    "# to be executed on linux terminal\n",
    "import sys\n",
    "\n",
    "num1 = int(sys.argv[1])\n",
    "num2 = int(sys.argv[2])\n",
    "add = num1 + num2\n",
    "print('(Number 1 =', num1, '),','(Number 2 =', num2, ')')\n",
    "print('Addition =',add\n"
   ]
  }
 ],
 "metadata": {
  "kernelspec": {
   "display_name": "Python 3 (ipykernel)",
   "language": "python",
   "name": "python3"
  },
  "language_info": {
   "codemirror_mode": {
    "name": "ipython",
    "version": 3
   },
   "file_extension": ".py",
   "mimetype": "text/x-python",
   "name": "python",
   "nbconvert_exporter": "python",
   "pygments_lexer": "ipython3",
   "version": "3.10.12"
  }
 },
 "nbformat": 4,
 "nbformat_minor": 5
}
